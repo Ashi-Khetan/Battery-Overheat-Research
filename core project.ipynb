{
 "cells": [
  {
   "cell_type": "code",
   "execution_count": 28,
   "metadata": {},
   "outputs": [],
   "source": [
    "import matplotlib.pyplot as plt\n",
    "import numpy as np\n",
    "import pandas as pd\n",
    "from pandas.plotting import scatter_matrix"
   ]
  },
  {
   "cell_type": "code",
   "execution_count": 29,
   "metadata": {},
   "outputs": [
    {
     "data": {
      "text/html": [
       "<div>\n",
       "<style scoped>\n",
       "    .dataframe tbody tr th:only-of-type {\n",
       "        vertical-align: middle;\n",
       "    }\n",
       "\n",
       "    .dataframe tbody tr th {\n",
       "        vertical-align: top;\n",
       "    }\n",
       "\n",
       "    .dataframe thead th {\n",
       "        text-align: right;\n",
       "    }\n",
       "</style>\n",
       "<table border=\"1\" class=\"dataframe\">\n",
       "  <thead>\n",
       "    <tr style=\"text-align: right;\">\n",
       "      <th></th>\n",
       "      <th>Time</th>\n",
       "      <th>Wifi</th>\n",
       "      <th>Oneplus5_duo</th>\n",
       "      <th>Video_call+charging</th>\n",
       "      <th>PUBG</th>\n",
       "      <th>Online_streamiing</th>\n",
       "      <th>Cellular_data</th>\n",
       "    </tr>\n",
       "  </thead>\n",
       "  <tbody>\n",
       "    <tr>\n",
       "      <th>0</th>\n",
       "      <td>1</td>\n",
       "      <td>33.2</td>\n",
       "      <td>31.2</td>\n",
       "      <td>39.0</td>\n",
       "      <td>26.0</td>\n",
       "      <td>28.0</td>\n",
       "      <td>32.0</td>\n",
       "    </tr>\n",
       "    <tr>\n",
       "      <th>1</th>\n",
       "      <td>2</td>\n",
       "      <td>34.7</td>\n",
       "      <td>31.5</td>\n",
       "      <td>42.0</td>\n",
       "      <td>26.1</td>\n",
       "      <td>28.4</td>\n",
       "      <td>32.3</td>\n",
       "    </tr>\n",
       "    <tr>\n",
       "      <th>2</th>\n",
       "      <td>3</td>\n",
       "      <td>35.2</td>\n",
       "      <td>32.8</td>\n",
       "      <td>41.2</td>\n",
       "      <td>26.1</td>\n",
       "      <td>28.6</td>\n",
       "      <td>32.3</td>\n",
       "    </tr>\n",
       "    <tr>\n",
       "      <th>3</th>\n",
       "      <td>4</td>\n",
       "      <td>35.4</td>\n",
       "      <td>33.5</td>\n",
       "      <td>41.4</td>\n",
       "      <td>26.1</td>\n",
       "      <td>28.7</td>\n",
       "      <td>32.6</td>\n",
       "    </tr>\n",
       "    <tr>\n",
       "      <th>4</th>\n",
       "      <td>5</td>\n",
       "      <td>35.7</td>\n",
       "      <td>34.4</td>\n",
       "      <td>41.6</td>\n",
       "      <td>26.2</td>\n",
       "      <td>30.0</td>\n",
       "      <td>32.6</td>\n",
       "    </tr>\n",
       "    <tr>\n",
       "      <th>5</th>\n",
       "      <td>6</td>\n",
       "      <td>35.5</td>\n",
       "      <td>35.2</td>\n",
       "      <td>42.0</td>\n",
       "      <td>26.2</td>\n",
       "      <td>30.2</td>\n",
       "      <td>32.9</td>\n",
       "    </tr>\n",
       "    <tr>\n",
       "      <th>6</th>\n",
       "      <td>7</td>\n",
       "      <td>36.2</td>\n",
       "      <td>35.1</td>\n",
       "      <td>42.2</td>\n",
       "      <td>26.2</td>\n",
       "      <td>30.2</td>\n",
       "      <td>32.8</td>\n",
       "    </tr>\n",
       "    <tr>\n",
       "      <th>7</th>\n",
       "      <td>8</td>\n",
       "      <td>36.0</td>\n",
       "      <td>35.3</td>\n",
       "      <td>42.4</td>\n",
       "      <td>26.5</td>\n",
       "      <td>30.5</td>\n",
       "      <td>32.8</td>\n",
       "    </tr>\n",
       "    <tr>\n",
       "      <th>8</th>\n",
       "      <td>9</td>\n",
       "      <td>36.0</td>\n",
       "      <td>35.6</td>\n",
       "      <td>42.7</td>\n",
       "      <td>26.5</td>\n",
       "      <td>30.9</td>\n",
       "      <td>33.2</td>\n",
       "    </tr>\n",
       "    <tr>\n",
       "      <th>9</th>\n",
       "      <td>10</td>\n",
       "      <td>36.2</td>\n",
       "      <td>35.2</td>\n",
       "      <td>43.1</td>\n",
       "      <td>27.0</td>\n",
       "      <td>31.0</td>\n",
       "      <td>33.5</td>\n",
       "    </tr>\n",
       "    <tr>\n",
       "      <th>10</th>\n",
       "      <td>11</td>\n",
       "      <td>36.4</td>\n",
       "      <td>36.2</td>\n",
       "      <td>43.4</td>\n",
       "      <td>27.6</td>\n",
       "      <td>31.2</td>\n",
       "      <td>33.9</td>\n",
       "    </tr>\n",
       "    <tr>\n",
       "      <th>11</th>\n",
       "      <td>12</td>\n",
       "      <td>36.7</td>\n",
       "      <td>38.1</td>\n",
       "      <td>43.4</td>\n",
       "      <td>27.8</td>\n",
       "      <td>31.6</td>\n",
       "      <td>34.1</td>\n",
       "    </tr>\n",
       "    <tr>\n",
       "      <th>12</th>\n",
       "      <td>13</td>\n",
       "      <td>35.7</td>\n",
       "      <td>39.4</td>\n",
       "      <td>43.6</td>\n",
       "      <td>28.4</td>\n",
       "      <td>32.0</td>\n",
       "      <td>34.1</td>\n",
       "    </tr>\n",
       "    <tr>\n",
       "      <th>13</th>\n",
       "      <td>14</td>\n",
       "      <td>34.7</td>\n",
       "      <td>40.1</td>\n",
       "      <td>43.5</td>\n",
       "      <td>28.7</td>\n",
       "      <td>32.1</td>\n",
       "      <td>34.4</td>\n",
       "    </tr>\n",
       "    <tr>\n",
       "      <th>14</th>\n",
       "      <td>15</td>\n",
       "      <td>34.0</td>\n",
       "      <td>38.8</td>\n",
       "      <td>43.5</td>\n",
       "      <td>28.7</td>\n",
       "      <td>32.1</td>\n",
       "      <td>34.6</td>\n",
       "    </tr>\n",
       "    <tr>\n",
       "      <th>15</th>\n",
       "      <td>16</td>\n",
       "      <td>34.5</td>\n",
       "      <td>39.0</td>\n",
       "      <td>43.6</td>\n",
       "      <td>29.0</td>\n",
       "      <td>32.8</td>\n",
       "      <td>34.6</td>\n",
       "    </tr>\n",
       "    <tr>\n",
       "      <th>16</th>\n",
       "      <td>17</td>\n",
       "      <td>35.0</td>\n",
       "      <td>42.0</td>\n",
       "      <td>43.7</td>\n",
       "      <td>30.2</td>\n",
       "      <td>33.4</td>\n",
       "      <td>34.2</td>\n",
       "    </tr>\n",
       "    <tr>\n",
       "      <th>17</th>\n",
       "      <td>18</td>\n",
       "      <td>35.2</td>\n",
       "      <td>41.2</td>\n",
       "      <td>43.8</td>\n",
       "      <td>30.6</td>\n",
       "      <td>33.4</td>\n",
       "      <td>34.8</td>\n",
       "    </tr>\n",
       "    <tr>\n",
       "      <th>18</th>\n",
       "      <td>19</td>\n",
       "      <td>35.7</td>\n",
       "      <td>40.8</td>\n",
       "      <td>43.8</td>\n",
       "      <td>31.4</td>\n",
       "      <td>35.0</td>\n",
       "      <td>35.3</td>\n",
       "    </tr>\n",
       "    <tr>\n",
       "      <th>19</th>\n",
       "      <td>20</td>\n",
       "      <td>36.0</td>\n",
       "      <td>41.4</td>\n",
       "      <td>43.9</td>\n",
       "      <td>31.7</td>\n",
       "      <td>35.3</td>\n",
       "      <td>34.9</td>\n",
       "    </tr>\n",
       "    <tr>\n",
       "      <th>20</th>\n",
       "      <td>21</td>\n",
       "      <td>35.7</td>\n",
       "      <td>42.2</td>\n",
       "      <td>44.0</td>\n",
       "      <td>31.9</td>\n",
       "      <td>35.9</td>\n",
       "      <td>35.5</td>\n",
       "    </tr>\n",
       "    <tr>\n",
       "      <th>21</th>\n",
       "      <td>22</td>\n",
       "      <td>36.0</td>\n",
       "      <td>43.1</td>\n",
       "      <td>44.0</td>\n",
       "      <td>32.4</td>\n",
       "      <td>36.2</td>\n",
       "      <td>35.8</td>\n",
       "    </tr>\n",
       "    <tr>\n",
       "      <th>22</th>\n",
       "      <td>23</td>\n",
       "      <td>35.7</td>\n",
       "      <td>43.4</td>\n",
       "      <td>45.1</td>\n",
       "      <td>32.5</td>\n",
       "      <td>36.8</td>\n",
       "      <td>36.1</td>\n",
       "    </tr>\n",
       "    <tr>\n",
       "      <th>23</th>\n",
       "      <td>24</td>\n",
       "      <td>36.2</td>\n",
       "      <td>43.6</td>\n",
       "      <td>45.2</td>\n",
       "      <td>33.2</td>\n",
       "      <td>37.1</td>\n",
       "      <td>36.2</td>\n",
       "    </tr>\n",
       "    <tr>\n",
       "      <th>24</th>\n",
       "      <td>25</td>\n",
       "      <td>36.4</td>\n",
       "      <td>43.6</td>\n",
       "      <td>45.6</td>\n",
       "      <td>34.5</td>\n",
       "      <td>38.2</td>\n",
       "      <td>36.2</td>\n",
       "    </tr>\n",
       "    <tr>\n",
       "      <th>25</th>\n",
       "      <td>26</td>\n",
       "      <td>36.4</td>\n",
       "      <td>43.6</td>\n",
       "      <td>45.6</td>\n",
       "      <td>35.0</td>\n",
       "      <td>39.0</td>\n",
       "      <td>36.0</td>\n",
       "    </tr>\n",
       "    <tr>\n",
       "      <th>26</th>\n",
       "      <td>27</td>\n",
       "      <td>37.0</td>\n",
       "      <td>43.8</td>\n",
       "      <td>45.9</td>\n",
       "      <td>35.2</td>\n",
       "      <td>39.5</td>\n",
       "      <td>36.4</td>\n",
       "    </tr>\n",
       "    <tr>\n",
       "      <th>27</th>\n",
       "      <td>28</td>\n",
       "      <td>37.3</td>\n",
       "      <td>43.9</td>\n",
       "      <td>45.8</td>\n",
       "      <td>35.8</td>\n",
       "      <td>40.1</td>\n",
       "      <td>36.3</td>\n",
       "    </tr>\n",
       "    <tr>\n",
       "      <th>28</th>\n",
       "      <td>29</td>\n",
       "      <td>37.0</td>\n",
       "      <td>43.8</td>\n",
       "      <td>45.4</td>\n",
       "      <td>36.1</td>\n",
       "      <td>40.4</td>\n",
       "      <td>37.0</td>\n",
       "    </tr>\n",
       "    <tr>\n",
       "      <th>29</th>\n",
       "      <td>30</td>\n",
       "      <td>37.1</td>\n",
       "      <td>44.0</td>\n",
       "      <td>45.4</td>\n",
       "      <td>36.3</td>\n",
       "      <td>41.6</td>\n",
       "      <td>37.6</td>\n",
       "    </tr>\n",
       "    <tr>\n",
       "      <th>...</th>\n",
       "      <td>...</td>\n",
       "      <td>...</td>\n",
       "      <td>...</td>\n",
       "      <td>...</td>\n",
       "      <td>...</td>\n",
       "      <td>...</td>\n",
       "      <td>...</td>\n",
       "    </tr>\n",
       "    <tr>\n",
       "      <th>35</th>\n",
       "      <td>36</td>\n",
       "      <td>38.0</td>\n",
       "      <td>44.5</td>\n",
       "      <td>44.9</td>\n",
       "      <td>39.4</td>\n",
       "      <td>44.0</td>\n",
       "      <td>39.2</td>\n",
       "    </tr>\n",
       "    <tr>\n",
       "      <th>36</th>\n",
       "      <td>37</td>\n",
       "      <td>38.0</td>\n",
       "      <td>44.5</td>\n",
       "      <td>44.7</td>\n",
       "      <td>39.7</td>\n",
       "      <td>44.4</td>\n",
       "      <td>39.3</td>\n",
       "    </tr>\n",
       "    <tr>\n",
       "      <th>37</th>\n",
       "      <td>38</td>\n",
       "      <td>38.4</td>\n",
       "      <td>44.8</td>\n",
       "      <td>44.7</td>\n",
       "      <td>40.1</td>\n",
       "      <td>44.9</td>\n",
       "      <td>39.1</td>\n",
       "    </tr>\n",
       "    <tr>\n",
       "      <th>38</th>\n",
       "      <td>39</td>\n",
       "      <td>38.1</td>\n",
       "      <td>44.9</td>\n",
       "      <td>43.1</td>\n",
       "      <td>39.8</td>\n",
       "      <td>44.9</td>\n",
       "      <td>40.1</td>\n",
       "    </tr>\n",
       "    <tr>\n",
       "      <th>39</th>\n",
       "      <td>40</td>\n",
       "      <td>37.9</td>\n",
       "      <td>44.9</td>\n",
       "      <td>43.1</td>\n",
       "      <td>39.6</td>\n",
       "      <td>45.0</td>\n",
       "      <td>40.0</td>\n",
       "    </tr>\n",
       "    <tr>\n",
       "      <th>40</th>\n",
       "      <td>41</td>\n",
       "      <td>37.9</td>\n",
       "      <td>45.0</td>\n",
       "      <td>42.5</td>\n",
       "      <td>39.4</td>\n",
       "      <td>45.3</td>\n",
       "      <td>40.6</td>\n",
       "    </tr>\n",
       "    <tr>\n",
       "      <th>41</th>\n",
       "      <td>42</td>\n",
       "      <td>37.6</td>\n",
       "      <td>45.1</td>\n",
       "      <td>41.8</td>\n",
       "      <td>40.3</td>\n",
       "      <td>45.4</td>\n",
       "      <td>40.9</td>\n",
       "    </tr>\n",
       "    <tr>\n",
       "      <th>42</th>\n",
       "      <td>43</td>\n",
       "      <td>37.6</td>\n",
       "      <td>44.9</td>\n",
       "      <td>41.8</td>\n",
       "      <td>40.4</td>\n",
       "      <td>45.4</td>\n",
       "      <td>40.9</td>\n",
       "    </tr>\n",
       "    <tr>\n",
       "      <th>43</th>\n",
       "      <td>44</td>\n",
       "      <td>37.1</td>\n",
       "      <td>44.7</td>\n",
       "      <td>41.2</td>\n",
       "      <td>40.8</td>\n",
       "      <td>46.1</td>\n",
       "      <td>41.3</td>\n",
       "    </tr>\n",
       "    <tr>\n",
       "      <th>44</th>\n",
       "      <td>45</td>\n",
       "      <td>37.1</td>\n",
       "      <td>44.7</td>\n",
       "      <td>40.8</td>\n",
       "      <td>41.4</td>\n",
       "      <td>46.5</td>\n",
       "      <td>41.2</td>\n",
       "    </tr>\n",
       "    <tr>\n",
       "      <th>45</th>\n",
       "      <td>46</td>\n",
       "      <td>37.0</td>\n",
       "      <td>43.0</td>\n",
       "      <td>40.7</td>\n",
       "      <td>41.9</td>\n",
       "      <td>46.5</td>\n",
       "      <td>41.5</td>\n",
       "    </tr>\n",
       "    <tr>\n",
       "      <th>46</th>\n",
       "      <td>47</td>\n",
       "      <td>36.7</td>\n",
       "      <td>43.2</td>\n",
       "      <td>40.7</td>\n",
       "      <td>42.5</td>\n",
       "      <td>46.8</td>\n",
       "      <td>42.2</td>\n",
       "    </tr>\n",
       "    <tr>\n",
       "      <th>47</th>\n",
       "      <td>48</td>\n",
       "      <td>36.6</td>\n",
       "      <td>43.1</td>\n",
       "      <td>40.1</td>\n",
       "      <td>43.1</td>\n",
       "      <td>47.1</td>\n",
       "      <td>42.4</td>\n",
       "    </tr>\n",
       "    <tr>\n",
       "      <th>48</th>\n",
       "      <td>49</td>\n",
       "      <td>36.6</td>\n",
       "      <td>43.3</td>\n",
       "      <td>38.7</td>\n",
       "      <td>43.5</td>\n",
       "      <td>47.5</td>\n",
       "      <td>42.7</td>\n",
       "    </tr>\n",
       "    <tr>\n",
       "      <th>49</th>\n",
       "      <td>50</td>\n",
       "      <td>36.6</td>\n",
       "      <td>43.3</td>\n",
       "      <td>38.0</td>\n",
       "      <td>44.2</td>\n",
       "      <td>47.7</td>\n",
       "      <td>42.8</td>\n",
       "    </tr>\n",
       "    <tr>\n",
       "      <th>50</th>\n",
       "      <td>51</td>\n",
       "      <td>36.8</td>\n",
       "      <td>43.2</td>\n",
       "      <td>37.0</td>\n",
       "      <td>44.9</td>\n",
       "      <td>47.7</td>\n",
       "      <td>42.8</td>\n",
       "    </tr>\n",
       "    <tr>\n",
       "      <th>51</th>\n",
       "      <td>52</td>\n",
       "      <td>36.8</td>\n",
       "      <td>43.4</td>\n",
       "      <td>37.0</td>\n",
       "      <td>46.0</td>\n",
       "      <td>48.2</td>\n",
       "      <td>43.6</td>\n",
       "    </tr>\n",
       "    <tr>\n",
       "      <th>52</th>\n",
       "      <td>53</td>\n",
       "      <td>35.9</td>\n",
       "      <td>43.4</td>\n",
       "      <td>36.2</td>\n",
       "      <td>46.5</td>\n",
       "      <td>48.3</td>\n",
       "      <td>43.6</td>\n",
       "    </tr>\n",
       "    <tr>\n",
       "      <th>53</th>\n",
       "      <td>54</td>\n",
       "      <td>35.9</td>\n",
       "      <td>43.1</td>\n",
       "      <td>35.8</td>\n",
       "      <td>46.0</td>\n",
       "      <td>48.2</td>\n",
       "      <td>43.1</td>\n",
       "    </tr>\n",
       "    <tr>\n",
       "      <th>54</th>\n",
       "      <td>55</td>\n",
       "      <td>36.0</td>\n",
       "      <td>43.0</td>\n",
       "      <td>35.7</td>\n",
       "      <td>45.4</td>\n",
       "      <td>48.6</td>\n",
       "      <td>43.9</td>\n",
       "    </tr>\n",
       "    <tr>\n",
       "      <th>55</th>\n",
       "      <td>56</td>\n",
       "      <td>36.1</td>\n",
       "      <td>38.5</td>\n",
       "      <td>35.7</td>\n",
       "      <td>44.9</td>\n",
       "      <td>49.1</td>\n",
       "      <td>44.4</td>\n",
       "    </tr>\n",
       "    <tr>\n",
       "      <th>56</th>\n",
       "      <td>57</td>\n",
       "      <td>36.0</td>\n",
       "      <td>38.3</td>\n",
       "      <td>34.5</td>\n",
       "      <td>44.1</td>\n",
       "      <td>49.4</td>\n",
       "      <td>44.1</td>\n",
       "    </tr>\n",
       "    <tr>\n",
       "      <th>57</th>\n",
       "      <td>58</td>\n",
       "      <td>36.2</td>\n",
       "      <td>38.6</td>\n",
       "      <td>34.3</td>\n",
       "      <td>44.2</td>\n",
       "      <td>49.5</td>\n",
       "      <td>44.5</td>\n",
       "    </tr>\n",
       "    <tr>\n",
       "      <th>58</th>\n",
       "      <td>59</td>\n",
       "      <td>36.3</td>\n",
       "      <td>38.7</td>\n",
       "      <td>34.3</td>\n",
       "      <td>44.2</td>\n",
       "      <td>49.7</td>\n",
       "      <td>44.9</td>\n",
       "    </tr>\n",
       "    <tr>\n",
       "      <th>59</th>\n",
       "      <td>60</td>\n",
       "      <td>36.3</td>\n",
       "      <td>39.0</td>\n",
       "      <td>34.3</td>\n",
       "      <td>43.9</td>\n",
       "      <td>49.5</td>\n",
       "      <td>44.9</td>\n",
       "    </tr>\n",
       "    <tr>\n",
       "      <th>60</th>\n",
       "      <td>61</td>\n",
       "      <td>36.3</td>\n",
       "      <td>39.3</td>\n",
       "      <td>34.0</td>\n",
       "      <td>43.9</td>\n",
       "      <td>49.3</td>\n",
       "      <td>44.8</td>\n",
       "    </tr>\n",
       "    <tr>\n",
       "      <th>61</th>\n",
       "      <td>62</td>\n",
       "      <td>36.0</td>\n",
       "      <td>39.3</td>\n",
       "      <td>34.2</td>\n",
       "      <td>43.9</td>\n",
       "      <td>49.3</td>\n",
       "      <td>45.3</td>\n",
       "    </tr>\n",
       "    <tr>\n",
       "      <th>62</th>\n",
       "      <td>63</td>\n",
       "      <td>36.1</td>\n",
       "      <td>39.5</td>\n",
       "      <td>34.2</td>\n",
       "      <td>43.4</td>\n",
       "      <td>49.2</td>\n",
       "      <td>45.1</td>\n",
       "    </tr>\n",
       "    <tr>\n",
       "      <th>63</th>\n",
       "      <td>64</td>\n",
       "      <td>36.0</td>\n",
       "      <td>39.7</td>\n",
       "      <td>34.1</td>\n",
       "      <td>43.0</td>\n",
       "      <td>49.2</td>\n",
       "      <td>45.7</td>\n",
       "    </tr>\n",
       "    <tr>\n",
       "      <th>64</th>\n",
       "      <td>65</td>\n",
       "      <td>36.0</td>\n",
       "      <td>39.6</td>\n",
       "      <td>34.1</td>\n",
       "      <td>42.9</td>\n",
       "      <td>49.0</td>\n",
       "      <td>47.0</td>\n",
       "    </tr>\n",
       "  </tbody>\n",
       "</table>\n",
       "<p>65 rows × 7 columns</p>\n",
       "</div>"
      ],
      "text/plain": [
       "    Time  Wifi  Oneplus5_duo  Video_call+charging  PUBG  Online_streamiing  \\\n",
       "0      1  33.2          31.2                 39.0  26.0               28.0   \n",
       "1      2  34.7          31.5                 42.0  26.1               28.4   \n",
       "2      3  35.2          32.8                 41.2  26.1               28.6   \n",
       "3      4  35.4          33.5                 41.4  26.1               28.7   \n",
       "4      5  35.7          34.4                 41.6  26.2               30.0   \n",
       "5      6  35.5          35.2                 42.0  26.2               30.2   \n",
       "6      7  36.2          35.1                 42.2  26.2               30.2   \n",
       "7      8  36.0          35.3                 42.4  26.5               30.5   \n",
       "8      9  36.0          35.6                 42.7  26.5               30.9   \n",
       "9     10  36.2          35.2                 43.1  27.0               31.0   \n",
       "10    11  36.4          36.2                 43.4  27.6               31.2   \n",
       "11    12  36.7          38.1                 43.4  27.8               31.6   \n",
       "12    13  35.7          39.4                 43.6  28.4               32.0   \n",
       "13    14  34.7          40.1                 43.5  28.7               32.1   \n",
       "14    15  34.0          38.8                 43.5  28.7               32.1   \n",
       "15    16  34.5          39.0                 43.6  29.0               32.8   \n",
       "16    17  35.0          42.0                 43.7  30.2               33.4   \n",
       "17    18  35.2          41.2                 43.8  30.6               33.4   \n",
       "18    19  35.7          40.8                 43.8  31.4               35.0   \n",
       "19    20  36.0          41.4                 43.9  31.7               35.3   \n",
       "20    21  35.7          42.2                 44.0  31.9               35.9   \n",
       "21    22  36.0          43.1                 44.0  32.4               36.2   \n",
       "22    23  35.7          43.4                 45.1  32.5               36.8   \n",
       "23    24  36.2          43.6                 45.2  33.2               37.1   \n",
       "24    25  36.4          43.6                 45.6  34.5               38.2   \n",
       "25    26  36.4          43.6                 45.6  35.0               39.0   \n",
       "26    27  37.0          43.8                 45.9  35.2               39.5   \n",
       "27    28  37.3          43.9                 45.8  35.8               40.1   \n",
       "28    29  37.0          43.8                 45.4  36.1               40.4   \n",
       "29    30  37.1          44.0                 45.4  36.3               41.6   \n",
       "..   ...   ...           ...                  ...   ...                ...   \n",
       "35    36  38.0          44.5                 44.9  39.4               44.0   \n",
       "36    37  38.0          44.5                 44.7  39.7               44.4   \n",
       "37    38  38.4          44.8                 44.7  40.1               44.9   \n",
       "38    39  38.1          44.9                 43.1  39.8               44.9   \n",
       "39    40  37.9          44.9                 43.1  39.6               45.0   \n",
       "40    41  37.9          45.0                 42.5  39.4               45.3   \n",
       "41    42  37.6          45.1                 41.8  40.3               45.4   \n",
       "42    43  37.6          44.9                 41.8  40.4               45.4   \n",
       "43    44  37.1          44.7                 41.2  40.8               46.1   \n",
       "44    45  37.1          44.7                 40.8  41.4               46.5   \n",
       "45    46  37.0          43.0                 40.7  41.9               46.5   \n",
       "46    47  36.7          43.2                 40.7  42.5               46.8   \n",
       "47    48  36.6          43.1                 40.1  43.1               47.1   \n",
       "48    49  36.6          43.3                 38.7  43.5               47.5   \n",
       "49    50  36.6          43.3                 38.0  44.2               47.7   \n",
       "50    51  36.8          43.2                 37.0  44.9               47.7   \n",
       "51    52  36.8          43.4                 37.0  46.0               48.2   \n",
       "52    53  35.9          43.4                 36.2  46.5               48.3   \n",
       "53    54  35.9          43.1                 35.8  46.0               48.2   \n",
       "54    55  36.0          43.0                 35.7  45.4               48.6   \n",
       "55    56  36.1          38.5                 35.7  44.9               49.1   \n",
       "56    57  36.0          38.3                 34.5  44.1               49.4   \n",
       "57    58  36.2          38.6                 34.3  44.2               49.5   \n",
       "58    59  36.3          38.7                 34.3  44.2               49.7   \n",
       "59    60  36.3          39.0                 34.3  43.9               49.5   \n",
       "60    61  36.3          39.3                 34.0  43.9               49.3   \n",
       "61    62  36.0          39.3                 34.2  43.9               49.3   \n",
       "62    63  36.1          39.5                 34.2  43.4               49.2   \n",
       "63    64  36.0          39.7                 34.1  43.0               49.2   \n",
       "64    65  36.0          39.6                 34.1  42.9               49.0   \n",
       "\n",
       "    Cellular_data  \n",
       "0            32.0  \n",
       "1            32.3  \n",
       "2            32.3  \n",
       "3            32.6  \n",
       "4            32.6  \n",
       "5            32.9  \n",
       "6            32.8  \n",
       "7            32.8  \n",
       "8            33.2  \n",
       "9            33.5  \n",
       "10           33.9  \n",
       "11           34.1  \n",
       "12           34.1  \n",
       "13           34.4  \n",
       "14           34.6  \n",
       "15           34.6  \n",
       "16           34.2  \n",
       "17           34.8  \n",
       "18           35.3  \n",
       "19           34.9  \n",
       "20           35.5  \n",
       "21           35.8  \n",
       "22           36.1  \n",
       "23           36.2  \n",
       "24           36.2  \n",
       "25           36.0  \n",
       "26           36.4  \n",
       "27           36.3  \n",
       "28           37.0  \n",
       "29           37.6  \n",
       "..            ...  \n",
       "35           39.2  \n",
       "36           39.3  \n",
       "37           39.1  \n",
       "38           40.1  \n",
       "39           40.0  \n",
       "40           40.6  \n",
       "41           40.9  \n",
       "42           40.9  \n",
       "43           41.3  \n",
       "44           41.2  \n",
       "45           41.5  \n",
       "46           42.2  \n",
       "47           42.4  \n",
       "48           42.7  \n",
       "49           42.8  \n",
       "50           42.8  \n",
       "51           43.6  \n",
       "52           43.6  \n",
       "53           43.1  \n",
       "54           43.9  \n",
       "55           44.4  \n",
       "56           44.1  \n",
       "57           44.5  \n",
       "58           44.9  \n",
       "59           44.9  \n",
       "60           44.8  \n",
       "61           45.3  \n",
       "62           45.1  \n",
       "63           45.7  \n",
       "64           47.0  \n",
       "\n",
       "[65 rows x 7 columns]"
      ]
     },
     "execution_count": 29,
     "metadata": {},
     "output_type": "execute_result"
    }
   ],
   "source": [
    "data = pd.read_csv('core5.tsv', delim_whitespace=True)\n",
    "data"
   ]
  },
  {
   "cell_type": "code",
   "execution_count": 30,
   "metadata": {},
   "outputs": [
    {
     "data": {
      "text/plain": [
       "(65, 7)"
      ]
     },
     "execution_count": 30,
     "metadata": {},
     "output_type": "execute_result"
    }
   ],
   "source": [
    "data.shape"
   ]
  },
  {
   "cell_type": "code",
   "execution_count": 31,
   "metadata": {},
   "outputs": [
    {
     "name": "stdout",
     "output_type": "stream",
     "text": [
      "<class 'pandas.core.frame.DataFrame'>\n",
      "RangeIndex: 65 entries, 0 to 64\n",
      "Data columns (total 7 columns):\n",
      "Time                   65 non-null int64\n",
      "Wifi                   65 non-null float64\n",
      "Oneplus5_duo           65 non-null float64\n",
      "Video_call+charging    65 non-null float64\n",
      "PUBG                   65 non-null float64\n",
      "Online_streamiing      65 non-null float64\n",
      "Cellular_data          65 non-null float64\n",
      "dtypes: float64(6), int64(1)\n",
      "memory usage: 3.6 KB\n"
     ]
    }
   ],
   "source": [
    "data.info()"
   ]
  },
  {
   "cell_type": "code",
   "execution_count": 32,
   "metadata": {},
   "outputs": [
    {
     "data": {
      "image/png": "[encoded data removed]",
      "text/plain": [
       "<Figure size 432x288 with 1 Axes>"
      ]
     },
     "metadata": {
      "needs_background": "light"
     },
     "output_type": "display_data"
    }
   ],
   "source": [
    "y=data['Wifi']\n",
    "x=data['Time']\n",
    "k=y.diff()\n",
    "plt.plot(x, y, color='r', label ='model')\n",
    "plt.scatter(x, y, color='b', label='data')\n",
    "plt.title('Wifi')\n",
    "plt.xlabel('time')\n",
    "plt.ylabel('Temperature')\n",
    "plt.show()\n"
   ]
  },
  {
   "cell_type": "code",
   "execution_count": 33,
   "metadata": {},
   "outputs": [
    {
     "data": {
      "image/png": "[encoded data removed]",
      "text/plain": [
       "<Figure size 432x288 with 1 Axes>"
      ]
     },
     "metadata": {
      "needs_background": "light"
     },
     "output_type": "display_data"
    }
   ],
   "source": [
    "y=data['Oneplus5_duo']\n",
    "x=data['Time']\n",
    "k=y.diff()\n",
    "plt.plot(x, y, color='r', label ='model')\n",
    "plt.scatter(x, y, color='b', label='data')\n",
    "plt.title('Google Duo')\n",
    "plt.xlabel('time')\n",
    "plt.ylabel('Temperature')\n",
    "plt.show()"
   ]
  },
  {
   "cell_type": "code",
   "execution_count": 34,
   "metadata": {},
   "outputs": [
    {
     "data": {
      "image/png": "[encoded data removed]",
      "text/plain": [
       "<Figure size 432x288 with 1 Axes>"
      ]
     },
     "metadata": {
      "needs_background": "light"
     },
     "output_type": "display_data"
    }
   ],
   "source": [
    "plt.plot(x, k, color='r', label ='model')\n",
    "plt.scatter(x, k, color='b', label='data')\n",
    "plt.title('Google Duo')\n",
    "plt.xlabel('Time')\n",
    "plt.ylabel('Rate of change of temperature')\n",
    "plt.show()"
   ]
  },
  {
   "cell_type": "code",
   "execution_count": 35,
   "metadata": {},
   "outputs": [
    {
     "data": {
      "image/png": "[encoded data removed]",
      "text/plain": [
       "<Figure size 432x288 with 1 Axes>"
      ]
     },
     "metadata": {
      "needs_background": "light"
     },
     "output_type": "display_data"
    }
   ],
   "source": [
    "y=data['Video_call+charging']\n",
    "x=data['Time']\n",
    "plt.plot(x, y, color='r', label ='model')\n",
    "plt.scatter(x, y, color='b', label='data')\n",
    "plt.title('Video call + charging')\n",
    "plt.xlabel('time')\n",
    "plt.ylabel('Temperature')\n",
    "plt.show()"
   ]
  },
  {
   "cell_type": "code",
   "execution_count": 36,
   "metadata": {},
   "outputs": [
    {
     "data": {
      "image/png": "[encoded data removed]",
      "text/plain": [
       "<Figure size 432x288 with 1 Axes>"
      ]
     },
     "metadata": {
      "needs_background": "light"
     },
     "output_type": "display_data"
    }
   ],
   "source": [
    "k=y.diff()\n",
    "plt.plot(x, k, color='r', label ='model')\n",
    "plt.scatter(x, k, color='b', label='data')\n",
    "plt.title('Video call + charging ')\n",
    "plt.xlabel('rate of change of temperature')\n",
    "plt.ylabel('time ')\n",
    "plt.show()"
   ]
  },
  {
   "cell_type": "code",
   "execution_count": 37,
   "metadata": {},
   "outputs": [
    {
     "data": {
      "image/png": "[encoded data removed]",
      "text/plain": [
       "<Figure size 432x288 with 1 Axes>"
      ]
     },
     "metadata": {
      "needs_background": "light"
     },
     "output_type": "display_data"
    }
   ],
   "source": [
    "y=data['PUBG']\n",
    "x=data['Time']\n",
    "plt.plot(x, y, color='r', label ='model')\n",
    "plt.scatter(x, y, color='b', label='data')\n",
    "plt.title('PUBG Game ')\n",
    "plt.xlabel('time')\n",
    "plt.ylabel('Temperature')\n",
    "plt.show()"
   ]
  },
  {
   "cell_type": "code",
   "execution_count": 38,
   "metadata": {},
   "outputs": [
    {
     "data": {
      "image/png": "[encoded data removed]",
      "text/plain": [
       "<Figure size 432x288 with 1 Axes>"
      ]
     },
     "metadata": {
      "needs_background": "light"
     },
     "output_type": "display_data"
    }
   ],
   "source": [
    "k=y.diff()\n",
    "plt.plot(x, k, color='r', label ='model')\n",
    "plt.scatter(x, k, color='b', label='data')\n",
    "plt.title('PUBG ')\n",
    "plt.xlabel('time')\n",
    "plt.ylabel('rate of change of temperature')\n",
    "plt.show()"
   ]
  },
  {
   "cell_type": "code",
   "execution_count": 39,
   "metadata": {},
   "outputs": [
    {
     "data": {
      "image/png": "[encoded data removed]",
      "text/plain": [
       "<Figure size 432x288 with 1 Axes>"
      ]
     },
     "metadata": {
      "needs_background": "light"
     },
     "output_type": "display_data"
    }
   ],
   "source": [
    "y=data['Online_streamiing']\n",
    "x=data['Time']\n",
    "plt.plot(x, y, color='r', label ='model')\n",
    "plt.scatter(x, y, color='b', label='data')\n",
    "plt.title('Online streaming')\n",
    "plt.xlabel('Time')\n",
    "plt.ylabel('Temperature')\n",
    "plt.show()"
   ]
  },
  {
   "cell_type": "code",
   "execution_count": 40,
   "metadata": {},
   "outputs": [
    {
     "data": {
      "image/png": "[encoded data removed]",
      "text/plain": [
       "<Figure size 432x288 with 1 Axes>"
      ]
     },
     "metadata": {
      "needs_background": "light"
     },
     "output_type": "display_data"
    }
   ],
   "source": [
    "y=data['Cellular_data']\n",
    "x=data['Time']\n",
    "plt.plot(x, y, color='r', label ='model')\n",
    "plt.scatter(x, y, color='b', label='data')\n",
    "plt.title('Cellaular data ')\n",
    "plt.xlabel('Time')\n",
    "plt.ylabel('Temperature')\n",
    "plt.show()"
   ]
  },
  {
   "cell_type": "code",
   "execution_count": 41,
   "metadata": {},
   "outputs": [],
   "source": [
    "from sklearn import linear_model\n",
    "from sklearn.model_selection import train_test_split\n"
   ]
  },
  {
   "cell_type": "code",
   "execution_count": 42,
   "metadata": {},
   "outputs": [],
   "source": [
    "from sklearn.ensemble import RandomForestRegressor\n",
    "from sklearn.datasets import make_regression"
   ]
  },
  {
   "cell_type": "code",
   "execution_count": 43,
   "metadata": {},
   "outputs": [
    {
     "name": "stdout",
     "output_type": "stream",
     "text": [
      "0.9613073748609473\n"
     ]
    }
   ],
   "source": [
    "y=data['Cellular_data'].values\n",
    "x=data['Time'].values\n",
    "x=np.reshape(x,(x.shape[0],1))\n",
    "x_train, x_test, y_train, y_test = train_test_split(x, y, test_size= 0.3)\n",
    "regr = RandomForestRegressor(max_depth=2, random_state=0,\n",
    "                             n_estimators=100)\n",
    "regr.fit(x_train, y_train)\n",
    "print(regr.score(x_test,y_test))"
   ]
  },
  {
   "cell_type": "code",
   "execution_count": 44,
   "metadata": {},
   "outputs": [
    {
     "data": {
      "image/png": "[encoded data removed]",
      "text/plain": [
       "<Figure size 432x288 with 1 Axes>"
      ]
     },
     "metadata": {
      "needs_background": "light"
     },
     "output_type": "display_data"
    }
   ],
   "source": [
    "plt.scatter(x_test,y_test,color='r')\n",
    "plt.scatter(x_test,regr.predict(x_test),color='b')\n",
    "plt.title('Cellular data ')\n",
    "plt.xlabel('Time')\n",
    "plt.ylabel('temperature')\n",
    "plt.show()"
   ]
  },
  {
   "cell_type": "code",
   "execution_count": null,
   "metadata": {},
   "outputs": [],
   "source": []
  },
  {
   "cell_type": "code",
   "execution_count": 45,
   "metadata": {},
   "outputs": [
    {
     "name": "stdout",
     "output_type": "stream",
     "text": [
      "0.97515643902386\n"
     ]
    }
   ],
   "source": [
    "y=data['PUBG'].values\n",
    "x=data['Time'].values\n",
    "x=np.reshape(x,(x.shape[0],1))\n",
    "x_train, x_test, y_train, y_test = train_test_split(x, y, test_size= 0.3)\n",
    "regr = RandomForestRegressor(max_depth=2, random_state=0,\n",
    "                             n_estimators=100)\n",
    "regr.fit(x_train, y_train)\n",
    "print(regr.score(x_test,y_test))"
   ]
  },
  {
   "cell_type": "code",
   "execution_count": 46,
   "metadata": {},
   "outputs": [
    {
     "data": {
      "image/png": "[encoded data removed]",
      "text/plain": [
       "<Figure size 432x288 with 1 Axes>"
      ]
     },
     "metadata": {
      "needs_background": "light"
     },
     "output_type": "display_data"
    }
   ],
   "source": [
    "plt.scatter(x_test,y_test,color='r')\n",
    "plt.scatter(x_test,regr.predict(x_test),color='b')\n",
    "plt.title('PUBG Game')\n",
    "plt.xlabel('Time')\n",
    "plt.ylabel('temperature')\n",
    "plt.show()"
   ]
  },
  {
   "cell_type": "code",
   "execution_count": 47,
   "metadata": {},
   "outputs": [
    {
     "name": "stdout",
     "output_type": "stream",
     "text": [
      "0.9209957542963993\n"
     ]
    }
   ],
   "source": [
    "y=data['Oneplus5_duo'].values\n",
    "x=data['Time'].values\n",
    "x=np.reshape(x,(x.shape[0],1))\n",
    "x_train, x_test, y_train, y_test = train_test_split(x, y, test_size= 0.3)\n",
    "regr = RandomForestRegressor(max_depth=2, random_state=0,\n",
    "                             n_estimators=100)\n",
    "regr.fit(x_train, y_train)\n",
    "print(regr.score(x_test,y_test))"
   ]
  },
  {
   "cell_type": "code",
   "execution_count": 48,
   "metadata": {},
   "outputs": [
    {
     "data": {
      "image/png": "[encoded data removed]",
      "text/plain": [
       "<Figure size 432x288 with 1 Axes>"
      ]
     },
     "metadata": {
      "needs_background": "light"
     },
     "output_type": "display_data"
    }
   ],
   "source": [
    "plt.scatter(x_test,y_test,color='r')\n",
    "plt.scatter(x_test,regr.predict(x_test),color='b')\n",
    "plt.title('Google Duo')\n",
    "plt.xlabel('Time')\n",
    "plt.ylabel('temperature')\n",
    "plt.show()"
   ]
  },
  {
   "cell_type": "code",
   "execution_count": 49,
   "metadata": {},
   "outputs": [
    {
     "name": "stdout",
     "output_type": "stream",
     "text": [
      "0.9238126786440987\n"
     ]
    }
   ],
   "source": [
    "y=data['Video_call+charging'].values\n",
    "x=data['Time'].values\n",
    "x=np.reshape(x,(x.shape[0],1))\n",
    "x_train, x_test, y_train, y_test = train_test_split(x, y, test_size= 0.3)\n",
    "regr = RandomForestRegressor(max_depth=2, random_state=0,\n",
    "                             n_estimators=100)\n",
    "regr.fit(x_train, y_train)\n",
    "print(regr.score(x_test,y_test))"
   ]
  },
  {
   "cell_type": "code",
   "execution_count": 50,
   "metadata": {},
   "outputs": [
    {
     "data": {
      "image/png": "[encoded data removed]",
      "text/plain": [
       "<Figure size 432x288 with 1 Axes>"
      ]
     },
     "metadata": {
      "needs_background": "light"
     },
     "output_type": "display_data"
    }
   ],
   "source": [
    "plt.scatter(x_test,y_test,color='r',label=\"actual values\")\n",
    "plt.scatter(x_test,regr.predict(x_test),color='b',label=\"predicted values\")\n",
    "plt.title('Video call + charging')\n",
    "plt.xlabel('Time')\n",
    "plt.ylabel('temperature')\n",
    "plt.legend()\n",
    "plt.show()"
   ]
  },
  {
   "cell_type": "code",
   "execution_count": 51,
   "metadata": {},
   "outputs": [
    {
     "name": "stdout",
     "output_type": "stream",
     "text": [
      "0.619446239918205\n"
     ]
    }
   ],
   "source": [
    "y=data['Wifi'].values\n",
    "x=data['Time'].values\n",
    "x=np.reshape(x,(x.shape[0],1))\n",
    "x_train, x_test, y_train, y_test = train_test_split(x, y, test_size= 0.3)\n",
    "regr = RandomForestRegressor(max_depth=2, random_state=0,\n",
    "                             n_estimators=100)\n",
    "regr.fit(x_train, y_train)\n",
    "print(regr.score(x_test,y_test))"
   ]
  },
  {
   "cell_type": "code",
   "execution_count": 52,
   "metadata": {},
   "outputs": [
    {
     "data": {
      "image/png": "[encoded data removed]",
      "text/plain": [
       "<Figure size 432x288 with 1 Axes>"
      ]
     },
     "metadata": {
      "needs_background": "light"
     },
     "output_type": "display_data"
    }
   ],
   "source": [
    "plt.scatter(x_test,y_test,color='r')\n",
    "plt.scatter(x_test,regr.predict(x_test),color='b')\n",
    "plt.title('Wifi')\n",
    "plt.xlabel('Time')\n",
    "plt.ylabel('temperature')\n",
    "plt.show()"
   ]
  },
  {
   "cell_type": "code",
   "execution_count": 53,
   "metadata": {},
   "outputs": [
    {
     "name": "stdout",
     "output_type": "stream",
     "text": [
      "0.9659147192441077\n"
     ]
    }
   ],
   "source": [
    "y=data['Online_streamiing'].values\n",
    "x=data['Time'].values\n",
    "x=np.reshape(x,(x.shape[0],1))\n",
    "x_train, x_test, y_train, y_test = train_test_split(x, y, test_size= 0.3)\n",
    "regr = RandomForestRegressor(max_depth=2, random_state=0,\n",
    "                             n_estimators=100)\n",
    "regr.fit(x_train, y_train)\n",
    "print(regr.score(x_test,y_test))"
   ]
  },
  {
   "cell_type": "code",
   "execution_count": 54,
   "metadata": {},
   "outputs": [
    {
     "data": {
      "image/png": "[encoded data removed]",
      "text/plain": [
       "<Figure size 432x288 with 1 Axes>"
      ]
     },
     "metadata": {
      "needs_background": "light"
     },
     "output_type": "display_data"
    }
   ],
   "source": [
    "plt.scatter(x_test,y_test,color='r')\n",
    "plt.scatter(x_test,regr.predict(x_test),color='b')\n",
    "plt.title('Online Streaming')\n",
    "plt.xlabel('Time')\n",
    "plt.ylabel('temperature')\n",
    "plt.show()"
   ]
  },
  {
   "cell_type": "code",
   "execution_count": null,
   "metadata": {},
   "outputs": [],
   "source": []
  },
  {
   "cell_type": "code",
   "execution_count": null,
   "metadata": {},
   "outputs": [],
   "source": []
  },
  {
   "cell_type": "code",
   "execution_count": null,
   "metadata": {},
   "outputs": [],
   "source": []
  },
  {
   "cell_type": "code",
   "execution_count": null,
   "metadata": {},
   "outputs": [],
   "source": []
  },
  {
   "cell_type": "code",
   "execution_count": null,
   "metadata": {},
   "outputs": [],
   "source": []
  },
  {
   "cell_type": "code",
   "execution_count": null,
   "metadata": {},
   "outputs": [],
   "source": []
  }
 ],
 "metadata": {
  "kernelspec": {
   "display_name": "Python 3",
   "language": "python",
   "name": "python3"
  },
  "language_info": {
   "codemirror_mode": {
    "name": "ipython",
    "version": 3
   },
   "file_extension": ".py",
   "mimetype": "text/x-python",
   "name": "python",
   "nbconvert_exporter": "python",
   "pygments_lexer": "ipython3",
   "version": "3.8.3"
  }
 },
 "nbformat": 4,
 "nbformat_minor": 4
}
